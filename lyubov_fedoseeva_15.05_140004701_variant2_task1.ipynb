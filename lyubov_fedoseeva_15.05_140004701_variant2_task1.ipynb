{
 "cells": [
  {
   "cell_type": "code",
   "execution_count": 1,
   "metadata": {},
   "outputs": [],
   "source": [
    "import numpy as np \n",
    "import pandas as pd\n",
    "import seaborn as sns\n",
    "import matplotlib.pyplot as plt"
   ]
  },
  {
   "cell_type": "markdown",
   "metadata": {},
   "source": [
    "### Второй проект  задание 1\n",
    "\n",
    "Воспользуйтесь этими данными и выясните, какие пары товаров пользователи чаще всего покупают вместе.  \n",
    "По сути, вам необходимо найти паттерны покупок, что позволит оптимизировать размещение продуктов в магазине, для удобства пользователей и увеличения выручки.  \n",
    "Напишите код на python для получения нужной таблицы и укажите 5 наиболее распространённых паттернов."
   ]
  },
  {
   "cell_type": "code",
   "execution_count": 2,
   "metadata": {},
   "outputs": [],
   "source": [
    "products = pd.read_csv('https://stepik.org/media/attachments/lesson/409319/test1_completed.csv', sep=',')"
   ]
  },
  {
   "cell_type": "code",
   "execution_count": 3,
   "metadata": {
    "scrolled": true
   },
   "outputs": [
    {
     "data": {
      "text/html": [
       "<div>\n",
       "<style scoped>\n",
       "    .dataframe tbody tr th:only-of-type {\n",
       "        vertical-align: middle;\n",
       "    }\n",
       "\n",
       "    .dataframe tbody tr th {\n",
       "        vertical-align: top;\n",
       "    }\n",
       "\n",
       "    .dataframe thead th {\n",
       "        text-align: right;\n",
       "    }\n",
       "</style>\n",
       "<table border=\"1\" class=\"dataframe\">\n",
       "  <thead>\n",
       "    <tr style=\"text-align: right;\">\n",
       "      <th></th>\n",
       "      <th>id</th>\n",
       "      <th>Товар</th>\n",
       "      <th>Количество</th>\n",
       "    </tr>\n",
       "  </thead>\n",
       "  <tbody>\n",
       "    <tr>\n",
       "      <th>0</th>\n",
       "      <td>17119</td>\n",
       "      <td>Лимон</td>\n",
       "      <td>1.10</td>\n",
       "    </tr>\n",
       "    <tr>\n",
       "      <th>1</th>\n",
       "      <td>17119</td>\n",
       "      <td>Лимон оранжевый</td>\n",
       "      <td>0.70</td>\n",
       "    </tr>\n",
       "    <tr>\n",
       "      <th>2</th>\n",
       "      <td>17119</td>\n",
       "      <td>Лук-порей</td>\n",
       "      <td>10.00</td>\n",
       "    </tr>\n",
       "    <tr>\n",
       "      <th>3</th>\n",
       "      <td>17119</td>\n",
       "      <td>Лук репчатый</td>\n",
       "      <td>2.50</td>\n",
       "    </tr>\n",
       "    <tr>\n",
       "      <th>4</th>\n",
       "      <td>17119</td>\n",
       "      <td>Малина свежая</td>\n",
       "      <td>1.00</td>\n",
       "    </tr>\n",
       "    <tr>\n",
       "      <th>5</th>\n",
       "      <td>17119</td>\n",
       "      <td>Морковь немытая</td>\n",
       "      <td>1.40</td>\n",
       "    </tr>\n",
       "    <tr>\n",
       "      <th>6</th>\n",
       "      <td>17119</td>\n",
       "      <td>Черешня сушеная</td>\n",
       "      <td>1.80</td>\n",
       "    </tr>\n",
       "    <tr>\n",
       "      <th>7</th>\n",
       "      <td>17530</td>\n",
       "      <td>Лимон оранжевый</td>\n",
       "      <td>0.25</td>\n",
       "    </tr>\n",
       "    <tr>\n",
       "      <th>8</th>\n",
       "      <td>17530</td>\n",
       "      <td>Изюм Султана</td>\n",
       "      <td>0.50</td>\n",
       "    </tr>\n",
       "    <tr>\n",
       "      <th>9</th>\n",
       "      <td>17530</td>\n",
       "      <td>Капуста цветная</td>\n",
       "      <td>2.00</td>\n",
       "    </tr>\n",
       "  </tbody>\n",
       "</table>\n",
       "</div>"
      ],
      "text/plain": [
       "      id            Товар  Количество\n",
       "0  17119            Лимон        1.10\n",
       "1  17119  Лимон оранжевый        0.70\n",
       "2  17119        Лук-порей       10.00\n",
       "3  17119     Лук репчатый        2.50\n",
       "4  17119    Малина свежая        1.00\n",
       "5  17119  Морковь немытая        1.40\n",
       "6  17119  Черешня сушеная        1.80\n",
       "7  17530  Лимон оранжевый        0.25\n",
       "8  17530     Изюм Султана        0.50\n",
       "9  17530  Капуста цветная        2.00"
      ]
     },
     "execution_count": 3,
     "metadata": {},
     "output_type": "execute_result"
    }
   ],
   "source": [
    "products.head(10)"
   ]
  },
  {
   "cell_type": "code",
   "execution_count": 4,
   "metadata": {},
   "outputs": [
    {
     "name": "stderr",
     "output_type": "stream",
     "text": [
      "/opt/tljh/user/lib/python3.7/site-packages/ipykernel_launcher.py:4: DeprecationWarning: The default dtype for empty Series will be 'object' instead of 'float64' in a future version. Specify a dtype explicitly to silence this warning.\n",
      "  after removing the cwd from sys.path.\n"
     ]
    }
   ],
   "source": [
    "from itertools import combinations\n",
    "\n",
    "def combs(goods):\n",
    "    return pd.Series(list(combinations(goods, 2)))\n",
    "\n",
    "group = products.groupby('id')['Товар'].apply(combs).value_counts()"
   ]
  },
  {
   "cell_type": "code",
   "execution_count": 5,
   "metadata": {},
   "outputs": [],
   "source": [
    "result = group.to_frame().reset_index()"
   ]
  },
  {
   "cell_type": "code",
   "execution_count": 6,
   "metadata": {},
   "outputs": [
    {
     "data": {
      "text/html": [
       "<div>\n",
       "<style scoped>\n",
       "    .dataframe tbody tr th:only-of-type {\n",
       "        vertical-align: middle;\n",
       "    }\n",
       "\n",
       "    .dataframe tbody tr th {\n",
       "        vertical-align: top;\n",
       "    }\n",
       "\n",
       "    .dataframe thead th {\n",
       "        text-align: right;\n",
       "    }\n",
       "</style>\n",
       "<table border=\"1\" class=\"dataframe\">\n",
       "  <thead>\n",
       "    <tr style=\"text-align: right;\">\n",
       "      <th></th>\n",
       "      <th>index</th>\n",
       "      <th>Товар</th>\n",
       "    </tr>\n",
       "  </thead>\n",
       "  <tbody>\n",
       "    <tr>\n",
       "      <th>0</th>\n",
       "      <td>(Огурцы Луховицкие, Укроп)</td>\n",
       "      <td>403</td>\n",
       "    </tr>\n",
       "    <tr>\n",
       "      <th>1</th>\n",
       "      <td>(Петрушка, Укроп)</td>\n",
       "      <td>390</td>\n",
       "    </tr>\n",
       "    <tr>\n",
       "      <th>2</th>\n",
       "      <td>(Арбуз, Огурцы Луховицкие)</td>\n",
       "      <td>314</td>\n",
       "    </tr>\n",
       "    <tr>\n",
       "      <th>3</th>\n",
       "      <td>(Кабачки, Огурцы Луховицкие)</td>\n",
       "      <td>300</td>\n",
       "    </tr>\n",
       "    <tr>\n",
       "      <th>4</th>\n",
       "      <td>(Кинза, Укроп)</td>\n",
       "      <td>290</td>\n",
       "    </tr>\n",
       "    <tr>\n",
       "      <th>...</th>\n",
       "      <td>...</td>\n",
       "      <td>...</td>\n",
       "    </tr>\n",
       "    <tr>\n",
       "      <th>39175</th>\n",
       "      <td>(Брусника свежая, Банановые чипсы)</td>\n",
       "      <td>1</td>\n",
       "    </tr>\n",
       "    <tr>\n",
       "      <th>39176</th>\n",
       "      <td>(Лонган, Абрикосы молдавские)</td>\n",
       "      <td>1</td>\n",
       "    </tr>\n",
       "    <tr>\n",
       "      <th>39177</th>\n",
       "      <td>(Рамбутан, Грейпфрут красный)</td>\n",
       "      <td>1</td>\n",
       "    </tr>\n",
       "    <tr>\n",
       "      <th>39178</th>\n",
       "      <td>(Черешня отборная, Тыква)</td>\n",
       "      <td>1</td>\n",
       "    </tr>\n",
       "    <tr>\n",
       "      <th>39179</th>\n",
       "      <td>(Лонган, Букет \"Брокколи\")</td>\n",
       "      <td>1</td>\n",
       "    </tr>\n",
       "  </tbody>\n",
       "</table>\n",
       "<p>39180 rows × 2 columns</p>\n",
       "</div>"
      ],
      "text/plain": [
       "                                    index  Товар\n",
       "0              (Огурцы Луховицкие, Укроп)    403\n",
       "1                       (Петрушка, Укроп)    390\n",
       "2              (Арбуз, Огурцы Луховицкие)    314\n",
       "3            (Кабачки, Огурцы Луховицкие)    300\n",
       "4                          (Кинза, Укроп)    290\n",
       "...                                   ...    ...\n",
       "39175  (Брусника свежая, Банановые чипсы)      1\n",
       "39176       (Лонган, Абрикосы молдавские)      1\n",
       "39177       (Рамбутан, Грейпфрут красный)      1\n",
       "39178           (Черешня отборная, Тыква)      1\n",
       "39179          (Лонган, Букет \"Брокколи\")      1\n",
       "\n",
       "[39180 rows x 2 columns]"
      ]
     },
     "execution_count": 6,
     "metadata": {},
     "output_type": "execute_result"
    }
   ],
   "source": [
    "result"
   ]
  },
  {
   "cell_type": "code",
   "execution_count": 7,
   "metadata": {},
   "outputs": [],
   "source": [
    "result['1_Товар'] = result[\"index\"].apply(lambda x: x[0])\n",
    "result['2_Товар'] = result[\"index\"].apply(lambda x: x[1])\n",
    "result['Встречаемость'] = result[\"Товар\"]"
   ]
  },
  {
   "cell_type": "code",
   "execution_count": 8,
   "metadata": {},
   "outputs": [],
   "source": [
    "result = result.drop(['index', 'Товар'], 1)"
   ]
  },
  {
   "cell_type": "code",
   "execution_count": 9,
   "metadata": {},
   "outputs": [
    {
     "data": {
      "text/html": [
       "<div>\n",
       "<style scoped>\n",
       "    .dataframe tbody tr th:only-of-type {\n",
       "        vertical-align: middle;\n",
       "    }\n",
       "\n",
       "    .dataframe tbody tr th {\n",
       "        vertical-align: top;\n",
       "    }\n",
       "\n",
       "    .dataframe thead th {\n",
       "        text-align: right;\n",
       "    }\n",
       "</style>\n",
       "<table border=\"1\" class=\"dataframe\">\n",
       "  <thead>\n",
       "    <tr style=\"text-align: right;\">\n",
       "      <th></th>\n",
       "      <th>1_Товар</th>\n",
       "      <th>2_Товар</th>\n",
       "      <th>Встречаемость</th>\n",
       "    </tr>\n",
       "  </thead>\n",
       "  <tbody>\n",
       "    <tr>\n",
       "      <th>0</th>\n",
       "      <td>Огурцы Луховицкие</td>\n",
       "      <td>Укроп</td>\n",
       "      <td>403</td>\n",
       "    </tr>\n",
       "    <tr>\n",
       "      <th>1</th>\n",
       "      <td>Петрушка</td>\n",
       "      <td>Укроп</td>\n",
       "      <td>390</td>\n",
       "    </tr>\n",
       "    <tr>\n",
       "      <th>2</th>\n",
       "      <td>Арбуз</td>\n",
       "      <td>Огурцы Луховицкие</td>\n",
       "      <td>314</td>\n",
       "    </tr>\n",
       "    <tr>\n",
       "      <th>3</th>\n",
       "      <td>Кабачки</td>\n",
       "      <td>Огурцы Луховицкие</td>\n",
       "      <td>300</td>\n",
       "    </tr>\n",
       "    <tr>\n",
       "      <th>4</th>\n",
       "      <td>Кинза</td>\n",
       "      <td>Укроп</td>\n",
       "      <td>290</td>\n",
       "    </tr>\n",
       "    <tr>\n",
       "      <th>...</th>\n",
       "      <td>...</td>\n",
       "      <td>...</td>\n",
       "      <td>...</td>\n",
       "    </tr>\n",
       "    <tr>\n",
       "      <th>39175</th>\n",
       "      <td>Брусника свежая</td>\n",
       "      <td>Банановые чипсы</td>\n",
       "      <td>1</td>\n",
       "    </tr>\n",
       "    <tr>\n",
       "      <th>39176</th>\n",
       "      <td>Лонган</td>\n",
       "      <td>Абрикосы молдавские</td>\n",
       "      <td>1</td>\n",
       "    </tr>\n",
       "    <tr>\n",
       "      <th>39177</th>\n",
       "      <td>Рамбутан</td>\n",
       "      <td>Грейпфрут красный</td>\n",
       "      <td>1</td>\n",
       "    </tr>\n",
       "    <tr>\n",
       "      <th>39178</th>\n",
       "      <td>Черешня отборная</td>\n",
       "      <td>Тыква</td>\n",
       "      <td>1</td>\n",
       "    </tr>\n",
       "    <tr>\n",
       "      <th>39179</th>\n",
       "      <td>Лонган</td>\n",
       "      <td>Букет \"Брокколи\"</td>\n",
       "      <td>1</td>\n",
       "    </tr>\n",
       "  </tbody>\n",
       "</table>\n",
       "<p>39180 rows × 3 columns</p>\n",
       "</div>"
      ],
      "text/plain": [
       "                 1_Товар              2_Товар  Встречаемость\n",
       "0      Огурцы Луховицкие                Укроп            403\n",
       "1               Петрушка                Укроп            390\n",
       "2                  Арбуз    Огурцы Луховицкие            314\n",
       "3                Кабачки    Огурцы Луховицкие            300\n",
       "4                  Кинза                Укроп            290\n",
       "...                  ...                  ...            ...\n",
       "39175    Брусника свежая      Банановые чипсы              1\n",
       "39176             Лонган  Абрикосы молдавские              1\n",
       "39177           Рамбутан    Грейпфрут красный              1\n",
       "39178   Черешня отборная                Тыква              1\n",
       "39179             Лонган     Букет \"Брокколи\"              1\n",
       "\n",
       "[39180 rows x 3 columns]"
      ]
     },
     "execution_count": 9,
     "metadata": {},
     "output_type": "execute_result"
    }
   ],
   "source": [
    "result"
   ]
  },
  {
   "cell_type": "code",
   "execution_count": 10,
   "metadata": {},
   "outputs": [
    {
     "data": {
      "text/html": [
       "<div>\n",
       "<style scoped>\n",
       "    .dataframe tbody tr th:only-of-type {\n",
       "        vertical-align: middle;\n",
       "    }\n",
       "\n",
       "    .dataframe tbody tr th {\n",
       "        vertical-align: top;\n",
       "    }\n",
       "\n",
       "    .dataframe thead th {\n",
       "        text-align: right;\n",
       "    }\n",
       "</style>\n",
       "<table border=\"1\" class=\"dataframe\">\n",
       "  <thead>\n",
       "    <tr style=\"text-align: right;\">\n",
       "      <th></th>\n",
       "      <th>1_Товар</th>\n",
       "      <th>2_Товар</th>\n",
       "      <th>Встречаемость</th>\n",
       "    </tr>\n",
       "  </thead>\n",
       "  <tbody>\n",
       "    <tr>\n",
       "      <th>0</th>\n",
       "      <td>Огурцы Луховицкие</td>\n",
       "      <td>Укроп</td>\n",
       "      <td>403</td>\n",
       "    </tr>\n",
       "    <tr>\n",
       "      <th>1</th>\n",
       "      <td>Петрушка</td>\n",
       "      <td>Укроп</td>\n",
       "      <td>390</td>\n",
       "    </tr>\n",
       "    <tr>\n",
       "      <th>2</th>\n",
       "      <td>Арбуз</td>\n",
       "      <td>Огурцы Луховицкие</td>\n",
       "      <td>314</td>\n",
       "    </tr>\n",
       "    <tr>\n",
       "      <th>3</th>\n",
       "      <td>Кабачки</td>\n",
       "      <td>Огурцы Луховицкие</td>\n",
       "      <td>300</td>\n",
       "    </tr>\n",
       "    <tr>\n",
       "      <th>4</th>\n",
       "      <td>Кинза</td>\n",
       "      <td>Укроп</td>\n",
       "      <td>290</td>\n",
       "    </tr>\n",
       "  </tbody>\n",
       "</table>\n",
       "</div>"
      ],
      "text/plain": [
       "             1_Товар            2_Товар  Встречаемость\n",
       "0  Огурцы Луховицкие              Укроп            403\n",
       "1           Петрушка              Укроп            390\n",
       "2              Арбуз  Огурцы Луховицкие            314\n",
       "3            Кабачки  Огурцы Луховицкие            300\n",
       "4              Кинза              Укроп            290"
      ]
     },
     "execution_count": 10,
     "metadata": {},
     "output_type": "execute_result"
    }
   ],
   "source": [
    "result.head(5)"
   ]
  },
  {
   "cell_type": "markdown",
   "metadata": {},
   "source": [
    "----------------------------------------------------"
   ]
  },
  {
   "cell_type": "markdown",
   "metadata": {},
   "source": [
    "### Ответ по второму проект  задание 1:\n",
    "\n",
    "5 распространненых паттернов товаров:\n",
    "- Огурцы Луховицкие и Укроп  \n",
    "- Петрушка и Укроп  \n",
    "- Арбуз и Огурцы Луховицкие  \n",
    "- Кабачки и Огурцы Луховицкие  \n",
    "-  Кинза и Укроп  "
   ]
  },
  {
   "cell_type": "markdown",
   "metadata": {},
   "source": [
    "--------------------------------------------------"
   ]
  },
  {
   "cell_type": "code",
   "execution_count": null,
   "metadata": {},
   "outputs": [],
   "source": []
  }
 ],
 "metadata": {
  "kernelspec": {
   "display_name": "Python 3",
   "language": "python",
   "name": "python3"
  },
  "language_info": {
   "codemirror_mode": {
    "name": "ipython",
    "version": 3
   },
   "file_extension": ".py",
   "mimetype": "text/x-python",
   "name": "python",
   "nbconvert_exporter": "python",
   "pygments_lexer": "ipython3",
   "version": "3.7.3"
  }
 },
 "nbformat": 4,
 "nbformat_minor": 4
}
